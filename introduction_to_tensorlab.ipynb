{
 "cells": [
  {
   "cell_type": "markdown",
   "metadata": {
    "slideshow": {
     "slide_type": "-"
    }
   },
   "source": [
    "# <font style=\"color:rgb(0,88,123)\">Introduction to Tensorlab</font>\n",
    "\n",
    "by Paul Breiding (https://personal-homepages.mis.mpg.de/breiding/, breiding@mis.mpg.de).\n",
    "\n",
    "This notebook is a tutorial for <font style=\"color:rgb(0,88,123)\"> Tensorlab</font>, a MATLAB toolbox for tensor computations by Vervliet, Debals, Sorber, Van Barel and De Lathauwer. \n",
    "\n",
    "You can download Tensorlab at\n",
    " \n",
    "        https://www.tensorlab.net\n",
    "        \n",
    "\n",
    "(the pictures in this notebook are taken from the Tensorlab manual.)\n",
    "\n",
    "Tensorlab requires MATLAB 7.9 (R2009b) or higher. To get MATLAB running in jupyter notebook follow the [guide](https://anneurai.net/2015/11/12/matlab-based-ipython-notebooks/) by [Anne Urai](https://anneurai.net). For convenience, I copied her guide here:\n",
    "\n",
    "* Download and install [Anaconda](https://www.continuum.io/downloads). Restart Terminal. Or, if you’d prefer to not get the full Anaconda software, check out [this post](https://w01f359.wordpress.com/2016/10/09/matlab-notebook/).\n",
    "* In terminal, type\n",
    "    \"pip install pymatbridge\"\n",
    "    \"pip install matlab_kernel\" and \n",
    "    \"python -m matlab_kernel install\"\n",
    "* Point the kernel to your version of Matlab. I added export\n",
    "\n",
    "        \"MATLAB_EXECUTABLE=/Applications/MATLAB_R2015b.app/bin/matlab\" \n",
    "    \n",
    "    to my .bash_profile file. To do this from Terminal, type echo \n",
    "    \n",
    "        “export MATLAB_EXECUTABLE=/Applications/MATLAB_2015b.app/bin/matlab” >> ~/.bash_profile\n",
    "    \n",
    "    Of course, make sure the location and version of Matlab match yours. Restart terminal or load .bash_profile. Type ipython notebook in Terminal. \n",
    "* You’re now ready to run your notebook! \n",
    "\n",
    "As of August 2018 this did not work with Python 3.6, but it did work with Python 3.5. Here is a [guide](https://conda.io/docs/user-guide/tasks/manage-python.html#using-a-different-version-of-python) on how to switch between different Python version.\n",
    "\n",
    "Tensorlab installation: unzip the files into a folder and add the folder to your current MATLAB session:"
   ]
  },
  {
   "cell_type": "code",
   "execution_count": 1,
   "metadata": {},
   "outputs": [
    {
     "name": "stdout",
     "output_type": "stream",
     "text": [
      "Warning: Name is nonexistent or not a directory: PATH_TO_THE_TENSORLAB_FOLDER\n",
      "> In path (line 109)\n",
      "  In addpath (line 88)\n"
     ]
    }
   ],
   "source": [
    "addpath('PATH_TO_THE_TENSORLAB_FOLDER')"
   ]
  },
  {
   "cell_type": "markdown",
   "metadata": {
    "slideshow": {
     "slide_type": "-"
    }
   },
   "source": [
    "Tensorlab provides functions for computing with tensors.\n",
    "\n",
    "In this tutorial we will go through the functions for multilinear multiplication and consider algorithms for  computing three types of tensor decompositions:\n",
    "\n",
    "* Multilinear singular value decomposition\n",
    "* Block term decomposition\n",
    "* Canonical polyadic decomposition (CPD)\n",
    "\n",
    "\n",
    "## <font style=\"color:rgb(0,88,123)\"> Multilinear Multiplication</font>\n",
    "\n",
    "\n",
    "Recall that for $S\\in \\mathbb{R}^{n_1\\times \\cdots\\times n_d}$ and $U_i\\in\\mathbb{R}^{m_i \\times n_i}$ the multilinear multiplication is defined as follows: let $e_i$ denote the standard basis vectors and write $A=\\sum s_{i_1,\\ldots,i_d} \\,e_{i_1}\\otimes \\cdots\\otimes e_{i_d}$. Then\n",
    "\n",
    "$$ (U_1,\\cdots,U_d)\\,s := \\sum a_{i_1,\\ldots,i_d} s_{i_1,\\ldots,i_d}\\,(M_1e_{i_1})\\otimes \\cdots\\otimes (M_de_{i_d}).$$\n",
    "\n",
    "\n",
    "\n"
   ]
  },
  {
   "cell_type": "code",
   "execution_count": 2,
   "metadata": {},
   "outputs": [
    {
     "name": "stdout",
     "output_type": "stream",
     "text": [
      "\n",
      "S(:,:,1) =\n",
      "\n",
      "    0.8147    0.1270\n",
      "    0.9058    0.9134\n",
      "\n",
      "\n",
      "S(:,:,2) =\n",
      "\n",
      "    0.6324    0.2785\n",
      "    0.0975    0.5469\n",
      "\n",
      "\n",
      "S0(:,:,1) =\n",
      "\n",
      "    1.5188    1.5444    2.3696    2.7507\n",
      "    1.0691    1.2372    1.7094    1.9966\n",
      "    0.8689    0.6823    1.3001    1.4927\n",
      "    0.7419    1.0138    1.2290    1.4479\n",
      "\n",
      "\n",
      "S0(:,:,2) =\n",
      "\n",
      "    1.3400    1.4319    2.1098    2.4548\n",
      "    0.9191    1.1095    1.4821    1.7348\n",
      "    0.7991    0.6830    1.2110    1.3952\n",
      "    0.6127    0.8750    1.0254    1.2110\n",
      "\n",
      "\n",
      "ans =\n",
      "\n",
      "    'S has format 2  2  2 and S0=(U1,U2,U3)S has format 4  4  2'\n",
      "\n"
     ]
    }
   ],
   "source": [
    "% generate a random tensor\n",
    "S = rand(2,2,2) \n",
    "\n",
    "% generate random matrices\n",
    "U1 = rand(4,2); U2 = rand(4,2); U3 = rand(2,2);\n",
    "\n",
    "% multilinear multiplication (U1, U2, U3) S\n",
    "S0 = tmprod(S, {U1, U2, U3}, 1:3) \n",
    "\n",
    "\n",
    "% print the sizes of the two tensors\n",
    "['S has format ' num2str(size(S)) ' and S0=(U1,U2,U3)S has format ' num2str(size(S0))]"
   ]
  },
  {
   "cell_type": "markdown",
   "metadata": {
    "slideshow": {
     "slide_type": "-"
    }
   },
   "source": [
    "\n",
    "\n",
    "## <font style=\"color:rgb(0,88,123)\">Multilinear Singular Value Decomposition (MLSVD)</font>\n",
    "\n",
    "<b><font style=\"color:rgb(152,17,53)\">Reminder:</font></b> the singular value decomposition (SVD) of a matrix $T\\in\\mathbb{R}^{n\\times m}$ ($n\\leq m$): $T = U \\,\\Sigma \\,V^T, \\text{ where } \\Sigma = \\mathrm{diag}(\\sigma_1,\\ldots,\\sigma_m)$ and where $U\\in \\mathbb{R}^{n\\times m}, V\\in\\mathbb{R}^{m\\times m}$ have orthonormal columns and $\\sigma_1\\geq \\cdots\\geq \\sigma_m\\geq 0$ are the singular values. \n",
    "\n",
    "* The rank of $T$ is the number of non-zero singular values.\n",
    "\n",
    "* The best rank-$r$ approximation $S$ to $T$ is $S = U \\,\\mathrm{diag}(\\sigma_1,\\ldots,\\sigma_r,0,\\ldots,0) \\,V^T = WW^TT,$ where $W\\in \\mathbb{R}^{n\\times r}$ is the matrix consisting of the first $r$ columns of $U$.\n",
    "\n",
    "The idea behind MLSVD is to compute the SVDs of the <b><font style=\"color:rgb(152,17,53)\">flattenings</font></b> of a tensor:\n",
    " \n",
    "$$\\text{For } 1\\leq i\\leq d: \\; T\\in\\mathbb{R}^{n_1 \\times \\cdots \\times n_d} \\;\\stackrel{\\text{reshape}}{\\longrightarrow}\\; T_{(i)}\\in\\mathbb{R}^{n_i \\times (\\prod_{j\\neq i} n_j)}.$$ "
   ]
  },
  {
   "cell_type": "code",
   "execution_count": 3,
   "metadata": {},
   "outputs": [
    {
     "name": "stdout",
     "output_type": "stream",
     "text": [
      "\n",
      "T(:,:,1) =\n",
      "\n",
      "    0.2582    0.2622\n",
      "    0.4087    0.5949\n",
      "    0.5959    0.2622\n",
      "\n",
      "\n",
      "T(:,:,2) =\n",
      "\n",
      "    0.5261    0.5244\n",
      "    0.8174    1.1898\n",
      "    1.1898    0.5244\n",
      "\n"
     ]
    }
   ],
   "source": [
    "% Consider, for instance, the following 3x2x2 tensor T\n",
    "% T will act as a running example throughout this presentation\n",
    "\n",
    "T(:,:,1) = [0.2582 0.2622;0.4087 0.5949; 0.5959 0.2622];\n",
    "T(:,:,2) = [0.5261 0.5244;0.8174 1.1898;1.1898 0.5244]"
   ]
  },
  {
   "cell_type": "markdown",
   "metadata": {},
   "source": [
    "Let us compute the matricization $T_{(1)}$ and its SVD."
   ]
  },
  {
   "cell_type": "code",
   "execution_count": 4,
   "metadata": {},
   "outputs": [
    {
     "name": "stdout",
     "output_type": "stream",
     "text": [
      "\n",
      "T_first(:,:,1) =\n",
      "\n",
      "   -0.7464   -0.6728\n",
      "    0.1781   -0.1969\n",
      "    0.0037    0.0000\n",
      "\n",
      "\n",
      "T_first(:,:,2) =\n",
      "\n",
      "   -1.4951   -1.3456\n",
      "    0.3540   -0.3937\n",
      "   -0.0019    0.0000\n",
      "\n",
      "\n",
      "T_second(:,:,1) =\n",
      "\n",
      "   -0.7464   -0.6728\n",
      "    0.1781   -0.1969\n",
      "    0.0037    0.0000\n",
      "\n",
      "\n",
      "T_second(:,:,2) =\n",
      "\n",
      "   -1.4951   -1.3456\n",
      "    0.3540   -0.3937\n",
      "   -0.0019    0.0000\n",
      "\n",
      "\n",
      "ans =\n",
      "\n",
      "    'The frobenius distance between the two transformed tensors is 7.228e-16'\n",
      "\n"
     ]
    }
   ],
   "source": [
    "% the following two scripts do the same thing:\n",
    "\n",
    "% script 1\n",
    "T1 = tens2mat(T, 1); %compute the flattening in the first mode\n",
    "[U Sigma] = svd(T1); %compute the SVD of T1\n",
    "T_first = tmprod(T, {U'}, [1]) %compress T \n",
    "\n",
    "% script 2\n",
    "[Us, S, sv] = mlsvd(T); % Compute the MLSVD \n",
    "U = Us{1}; % extract the first U\n",
    "T_second = tmprod(T, {U'}, [1]) % compress T\n",
    "\n",
    "% compare outputs\n",
    "['The frobenius distance between the two transformed tensors is ' num2str(frob(T_first - T_second))]"
   ]
  },
  {
   "cell_type": "markdown",
   "metadata": {
    "slideshow": {
     "slide_type": "-"
    }
   },
   "source": [
    "### <font style=\"color:rgb(0,88,123)\">Definition </font>\n",
    "Let $T\\in \\mathbb{R}^{n_1\\times \\cdots\\times n_d}$. The multilinear rank $(r_1,\\ldots,r_d)$ of $T$ is defined by $r_i:=\\mathrm{rank}(T_{(i)})$.\n",
    "\n",
    "\n",
    "![img](lmlra.svg)\n",
    "\n",
    "What is the ml-rank of $T$? Let us plot the singular values of the three matricizations."
   ]
  },
  {
   "cell_type": "code",
   "execution_count": 5,
   "metadata": {
    "slideshow": {
     "slide_type": "-"
    }
   },
   "outputs": [
    {
     "data": {
      "image/png": "[encoded data removed]",
      "text/plain": [
       "<IPython.core.display.Image object>"
      ]
     },
     "metadata": {},
     "output_type": "display_data"
    }
   ],
   "source": [
    "for n = 1:3\n",
    "    subplot(1,6,2*n); semilogy(sv{n}, '.-', 'MarkerSize', 25); ylim([1e-4 10]);\n",
    "end"
   ]
  },
  {
   "cell_type": "markdown",
   "metadata": {
    "slideshow": {
     "slide_type": "-"
    }
   },
   "source": [
    "It seems that $T$ is almost of ml-rank $(2,2,1)$. This motivates the following definition.\n",
    "\n",
    "\n",
    "### <font style=\"color:rgb(0,88,123)\">Definition</font>\n",
    "<p>\n",
    "    \n",
    "Let $T\\in \\mathbb{R}^{n_1\\times \\cdots\\times n_d}$ and let the SVD of the $i$-th flattening be $ T_{(i)} = U_i \\Sigma_i, V_i^T.$\n",
    "\n",
    "The rank-$(r_1,\\ldots,r_d)$ low multilinear rank approximation (LMLRA) of $T$ is the tuple \n",
    "\n",
    "$$(W_1,\\ldots,W_d, S)\\in \\mathbb{R}^{n_1\\times r_1}\\times \\cdots\\times \\mathbb{R}^{n_d\\times r_d} \\times \\mathbb{R}^{r_1\\times \\cdots\\times r_d}, \\text{ where }$$\n",
    "\n",
    "* $W_i$ is the matrix consisting of the first $r_i$ columns of $U_i$.\n",
    "* $S = (W_1^T,\\ldots,W_d^T) \\,T$\n",
    "<p>\n",
    "    \n",
    "(so that $W_iW_i^TT_{(i)}$ is the best rank $r_i$-approximation of $T_{(i)}$).\n",
    "\n",
    "<br>\n",
    "\n",
    "Benefit of an $(r_1,\\ldots,r_d)$ LMLRA: storing $\\prod_{i=1}^d r_i + \\sum_{i=1}^d n_ir_i$ numbers vs. storing  $\\prod_{i=1}^d n_i$ many numbers. The next theorem shows the quality of LMLRA.\n",
    "\n",
    "### <font style=\"color:rgb(0,88,123)\">Theorem (Hackbusch)</font>\n",
    "<p>\n",
    "    \n",
    "Let $(W_1,\\ldots,W_d, S)$ be the the rank-$(r_1,\\ldots,r_d)$ LMLRA of $T\\in \\mathbb{R}^{n_1\\times \\cdots\\times n_d}$. Then,\n",
    "\n",
    "$$\\Vert T-(W_1,\\ldots,W_d)\\,S\\Vert \\leq \\sqrt{d}\\,\\min\\limits_{C\\in \\mathbb{R}^{n_1\\times \\cdots\\times n_d} \\text{ has ml-rank } (r_1,\\ldots,r_d)} \\Vert A-C\\Vert.$$\n",
    "\n",
    "\n",
    "\n",
    "<br>\n",
    "\n",
    "\n",
    "Let us compute the rank-$(2,2,1)$ LMLRA of $T$ and see how well $T$ was approximated."
   ]
  },
  {
   "cell_type": "code",
   "execution_count": 6,
   "metadata": {
    "slideshow": {
     "slide_type": "-"
    }
   },
   "outputs": [
    {
     "name": "stdout",
     "output_type": "stream",
     "text": [
      "\n",
      "ans =\n",
      "\n",
      "    'The relative error of the LMLRA of T is 0.0018884'\n",
      "\n"
     ]
    }
   ],
   "source": [
    "% compute the (2,2,1)-MLSVD approximation\n",
    "[U, S, sv] = mlsvd(T, [2, 2, 1]); \n",
    "\n",
    "%generate the tensor from the tuple (U_1,U_2,U_3,S)\n",
    "B = lmlragen(U,S) ;\n",
    "\n",
    "%compute the relative error of the approximation\n",
    "['The relative error of the LMLRA of T is ' num2str(frob(T-B) / frob(T))]"
   ]
  },
  {
   "cell_type": "markdown",
   "metadata": {
    "slideshow": {
     "slide_type": "-"
    }
   },
   "source": [
    "## <font style=\"color:rgb(0,88,123)\">Block Term Decomposition (BTD)</font>\n",
    "    \n",
    "### <font style=\"color:rgb(0,88,123)\">Definition</font>\n",
    "\n",
    "Let  $T\\in \\mathbb{R}^{n_1\\times \\cdots\\times n_d}$  and $r = ((r_1^1,\\ldots,r_d^1), \\ldots, (r_1^R,\\ldots,r_d^R))$ be a $R$-tuple of $d$-tuples of positive integers. We call the decomposition $T = T_1 + \\cdots + T_R$ a $r$-block term decomposition (BTD) of $A$, if $\\text{ml-rank}(T_i)=(r_1^i,\\ldots,r_d^i)$. The smallest such $R$ is called the BTD-rank of $T$.\n",
    "\n",
    "![img](btd.svg)\n",
    "\n",
    "<b><font style=\"color:rgb(152,17,53)\">Goal of BTD:</font></b> find the best $r$-block term approximation; i.e. compute\n",
    "\n",
    "$$ \\min_{B \\text{ has an } r-\\text{BTD}}\\Vert T-B\\Vert.$$\n",
    "\n",
    "Unlike for the LMLRA we have no direct method for solving this approximation problem. Tensorlab provides an optimization algorithm for solving this problem. In a nutshell, this algorithm solves the gradient equation of $\\,f(B)=\\frac{1}{2}\\Vert T-B\\Vert^2$ using a Riemann-Newton method. This method requires an initial decomposition (and hence requires specification of the rank $R$). \n",
    "\n",
    "See also [Absil, Mahony, Sepulchre (2008): Optimization Algorithms on Matrix Manifolds.](http://www.eeci-institute.eu/GSC2011/Photos-EECI/EECI-GSC-2011-M5/book_AMS.pdf)"
   ]
  },
  {
   "cell_type": "code",
   "execution_count": 7,
   "metadata": {
    "slideshow": {
     "slide_type": "-"
    }
   },
   "outputs": [
    {
     "name": "stdout",
     "output_type": "stream",
     "text": [
      "\n",
      "ans =\n",
      "\n",
      "    'The relative error of the BTD approximation of T is 4.8128e-13'\n",
      "\n"
     ]
    }
   ],
   "source": [
    "% define size of the tensor T\n",
    "size_tens = [3 2 2]; \n",
    "\n",
    "% define ml-ranks of the decomposition\n",
    "r = {[2 2 2],[2 2 2],[2 2 1]}; \n",
    "\n",
    "% generate a random BTD, which can serve as initial point\n",
    "U = btd_rnd(size_tens, r);\n",
    "\n",
    "% compute a block term approximation of T with initial decomposition U\n",
    "T0 = btd_nls(T, U); \n",
    "\n",
    "% Compare the decomposition with T\n",
    "['The relative error of the BTD approximation of T is ' num2str(frob(T - btdgen(T0)) / frob(T))]"
   ]
  },
  {
   "cell_type": "markdown",
   "metadata": {
    "slideshow": {
     "slide_type": "-"
    }
   },
   "source": [
    "\n",
    "## <font style=\"color:rgb(0,88,123)\">Canonical Polyadic Decomposition (CPD)</font>\n",
    "    \n",
    "The CPD expresses a tensor $T\\in\\mathbb{R}^{n_1\\times \\cdots \\times n_d}$ as a sum of rank-one tensors: $T = \\sum_{i=1}^R a_1^i\\otimes \\cdots \\otimes a_d^i.$ The smallest $R$, for which such a decomposition is possible, is called the rank of $T$.  Tensorlab's data structure for dealing with CPDs are <b><font style=\"color:rgb(152,17,53)\">cells of factor matrices</font></b>.\n",
    "\n",
    "### <font style=\"color:rgb(0,88,123)\">Definition</font>\n",
    "\n",
    "The factor matrices of the decomposition $T = \\sum_{i=1}^R\\, a_1^i\\otimes \\cdots \\otimes a_d^i$ are $A_1:=  [a_1^1, \\ldots, a_1^R] \\in \\mathbb{R}^{n_1\\times R}, \\,\\ldots,\\, A_d:=  [a_d^1, \\ldots, a_d^R]\\in \\mathbb{R}^{n_d\\times R}.$\n",
    "\n",
    "![img](cpd.svg)\n",
    "\n",
    "\n",
    "Let us make an example\n",
    "\n",
    "\n"
   ]
  },
  {
   "cell_type": "code",
   "execution_count": 8,
   "metadata": {},
   "outputs": [
    {
     "name": "stdout",
     "output_type": "stream",
     "text": [
      "\n",
      "ans(:,:,1) =\n",
      "\n",
      "    0.1735    0.1989    0.0254\n",
      "    0.2597    0.2218    0.0083\n",
      "\n",
      "\n",
      "ans(:,:,2) =\n",
      "\n",
      "    0.0813    0.0939    0.0122\n",
      "    0.1036    0.0890    0.0036\n",
      "\n"
     ]
    }
   ],
   "source": [
    "% define a rank\n",
    "R = 2; \n",
    "\n",
    "% sample random factor matrices with R columns\n",
    "A = rand(2, R); \n",
    "B = rand(3, R); \n",
    "C = rand(2, R); \n",
    "\n",
    "% create the rank-2 2x3x2 tensor with factor matrices A,B,C\n",
    "cpdgen({A, B, C}) "
   ]
  },
  {
   "cell_type": "markdown",
   "metadata": {
    "slideshow": {
     "slide_type": "subslide"
    }
   },
   "source": [
    "Tensorlab's high-level command for computing CPDs is cpd($\\;\\cdot\\;$):"
   ]
  },
  {
   "cell_type": "code",
   "execution_count": 9,
   "metadata": {},
   "outputs": [
    {
     "name": "stdout",
     "output_type": "stream",
     "text": [
      "\n",
      "U =\n",
      "\n",
      "  1×3 cell array\n",
      "\n",
      "    [3×3 double]    [2×3 double]    [2×3 double]\n",
      "\n",
      "\n",
      "ans =\n",
      "\n",
      "    'The relative error of the CPD approximation of T is 1.6015e-16'\n",
      "\n"
     ]
    }
   ],
   "source": [
    "% compute a rank-3 cpd of T\n",
    "R = 3;\n",
    "U = cpd(T, R) \n",
    "\n",
    "% compute the relative error\n",
    "['The relative error of the CPD approximation of T is ' num2str(frob(T - cpdgen(U)) / frob(T))]"
   ]
  },
  {
   "cell_type": "markdown",
   "metadata": {},
   "source": [
    "Algorithms for computing the CPD in Tensorlab are\n",
    "\n",
    "* cpd_gevd (a direct method for tensors of order 3)\n",
    "* cpd_als and cpd_nls (optimization algorithm)."
   ]
  },
  {
   "cell_type": "code",
   "execution_count": 10,
   "metadata": {},
   "outputs": [
    {
     "name": "stdout",
     "output_type": "stream",
     "text": [
      "\n",
      "U =\n",
      "\n",
      "  1×3 cell array\n",
      "\n",
      "    [3×2 double]    [2×2 double]    [2×2 double]\n",
      "\n",
      "\n",
      "ans =\n",
      "\n",
      "    'Using GEVF the relative error of the CPD approximation of T is 0.0017996'\n",
      "\n"
     ]
    }
   ],
   "source": [
    "% compute the CPD of T via GEVD. The size of T only allows GEVD for ranks at most 2.\n",
    "U = cpd_gevd(T, 2) \n",
    "\n",
    "% compute the relative error\n",
    "['Using GEVF the relative error of the CPD approximation of T is ' num2str(frob(T - cpdgen(U)) / frob(T))] "
   ]
  },
  {
   "cell_type": "markdown",
   "metadata": {},
   "source": [
    "cpd_gevd computes the CPD via a generalized eigenvalue decomposition. But this method is numerically unstable and therefore should be used carefully; see https://arxiv.org/abs/1807.04159.\n",
    "\n",
    "The optimization algorithms solve the optimization problem\n",
    "\n",
    "$$\\min_{\\text{factor matrices } A_1,\\ldots, A_d} \\; \\frac{1}{2} \\,\\Vert T -  \\sum_{i=1}^R\\, a_1^i\\otimes \\cdots \\otimes a_d^i\\Vert^2.$$\n",
    "\n",
    "* cpd_als sequentially optimizes over the $A_i$.\n",
    "* cpd_nls applies Newton's method to solve the gradient equation. \n",
    "\n",
    "Let us decompose $T$ with cpd_als and cpd_nls."
   ]
  },
  {
   "cell_type": "code",
   "execution_count": 11,
   "metadata": {},
   "outputs": [
    {
     "name": "stdout",
     "output_type": "stream",
     "text": [
      "\n",
      "ans =\n",
      "\n",
      "    'Using cpd_nls the relative error is 1.6367e-16'\n",
      "\n",
      "\n",
      "ans =\n",
      "\n",
      "    'Using cpd_als the relative error is 0.00040781'\n",
      "\n"
     ]
    }
   ],
   "source": [
    "R = 3;\n",
    "\n",
    "% use cpd_nls \n",
    "U_nls = cpd(T, R, 'Algorithm', @cpd_nls); \n",
    "\n",
    "% use cpd_als\n",
    "U_als = cpd(T, R, 'Algorithm', @cpd_als);\n",
    "\n",
    "%  compute the relative errors\n",
    "['Using cpd_nls the relative error is ' num2str(frob(T - cpdgen(U_nls)) / frob(T))] \n",
    "\n",
    "['Using cpd_als the relative error is ' num2str(frob(T - cpdgen(U_als)) / frob(T))] "
   ]
  },
  {
   "cell_type": "markdown",
   "metadata": {},
   "source": [
    "Alternatively, one can call cpd_nls and cpd_als directly, but one has to pass an intial decomposition. The rank is implicitly defined by the number of columns of the factor matrices."
   ]
  },
  {
   "cell_type": "code",
   "execution_count": 12,
   "metadata": {},
   "outputs": [
    {
     "name": "stdout",
     "output_type": "stream",
     "text": [
      "\n",
      "ans =\n",
      "\n",
      "    'Using cpd_nls the relative error is 1.6882e-16'\n",
      "\n"
     ]
    }
   ],
   "source": [
    "R = 3;\n",
    "\n",
    "% sample a random decomposition U\n",
    "U0 = {rand(3,R), rand(2,R), rand(2,R)}; \n",
    "\n",
    "% compute the CPD of T with starting guess U\n",
    "U = cpd_nls(T, U0); \n",
    "\n",
    "% compute the relative error\n",
    "['Using cpd_nls the relative error is ' num2str(frob(T - cpdgen(U)) / frob(T))]"
   ]
  },
  {
   "cell_type": "markdown",
   "metadata": {
    "slideshow": {
     "slide_type": "subslide"
    }
   },
   "source": [
    "In https://arxiv.org/abs/1709.00033 it was argued that it can be benificial to solve instead the following problem\n",
    "\n",
    "$$\\min_{T_i \\,\\text{ has rank one}} \\; \\frac{1}{2} \\,\\Vert T -  \\sum_{i=1}^R\\, T_i\\Vert.$$\n",
    "\n",
    "In particular, for large differences in the $\\Vert T_i\\Vert$ solving this optimization problem instead of using factor matrices improves the numerical stability as the following experiment shows."
   ]
  },
  {
   "cell_type": "code",
   "execution_count": 13,
   "metadata": {},
   "outputs": [
    {
     "data": {
      "image/png": "[encoded data removed]",
      "text/plain": [
       "<IPython.core.display.Image object>"
      ]
     },
     "metadata": {},
     "output_type": "display_data"
    }
   ],
   "source": [
    "% !!!\n",
    "% for the code in this box to work download the ancillary files at https://arxiv.org/abs/1709.00033 \n",
    "% and add the MATLAB scripts to your session \n",
    "% !!!\n",
    "\n",
    "addpath('/Users/breiding/Documents/MATLAB/CPD_Riemannian_opt')\n",
    "\n",
    "% to make a comparison we must use the two algorithms with the same options\n",
    "options.AlgorithmOptions.TolFun = 1e-12; % Set function tolerance stop criterion\n",
    "options.AlgorithmOptions.TolX   = 1e-12; % Set step size tolerance stop criterion\n",
    "options.AlgorithmOptions.MaxIter  = 1000; % The maximum number of objective function evaluations.\n",
    "\n",
    "\n",
    "% define a rank and an array to store the accuracies of the computations\n",
    "R = 6; \n",
    "accuracy = zeros(20, 2);\n",
    "\n",
    "% define scaling factor 5^i for T_i \n",
    "scaling = arrayfun(@(i) 2^i, 1:R); \n",
    "\n",
    "for i = 1:20\n",
    "\n",
    "    % generate a random tensor with the above scaling\n",
    "    Y = cpdgen({rand(13,R) * diag(scaling), rand(11,R), rand(9,R)});\n",
    "\n",
    "    % generate a random intial decomposition\n",
    "    U0 = {rand(13,R), rand(11,R), rand(9,R)};\n",
    "\n",
    "    % compute the CPD with optimization on the factor matrices\n",
    "    U_factor_matrices = cpd_nls(Y, U0, options); \n",
    "\n",
    "    % compute the CPD with optimization on the rank-one tensors\n",
    "    U_segre = bv_rgn_hr(Y, U0, options); \n",
    "\n",
    "    % save the errors of the computations\n",
    "    accuracy(i,1) = -log10(frob(Y - cpdgen(U_factor_matrices)) / frob(Y));\n",
    "    accuracy(i,2) = -log10(frob(Y - cpdgen(U_segre)) / frob(Y));\n",
    "    \n",
    "end\n",
    "\n",
    "hold on; \n",
    "histogram(accuracy(:,1)); \n",
    "histogram(accuracy(:,2)); \n",
    "legend('optimization with factor matrices','Riemannian optimization'); \n",
    "xlabel('-log(relative error)'); pbaspect([2.5 1 1]);"
   ]
  },
  {
   "cell_type": "markdown",
   "metadata": {
    "slideshow": {
     "slide_type": "subslide"
    }
   },
   "source": [
    "\n",
    "### <font style=\"color:rgb(0,88,123)\">Structured Data Fusion</font>\n",
    "\n",
    "\n",
    "Tensorlab allows to impose structures on the factors in the optimization algorithms. Structure is imposed on factors by transforming variables $z$ into factors $x$ and optimizing over $z$. \n",
    "\n",
    "In Tensorlab 3.0 there are 41 structures implemented, such as\n",
    "\n",
    "* nonnegativity,\n",
    "* orthogonality,\n",
    "* Hankel or\n",
    "* Toeplitz.\n",
    "\n",
    "The user can also write their own structure function. \n",
    "\n",
    "Furthermore, with SDF the user can solve coupled problems.\n",
    "\n",
    "\n",
    "### <b><font style=\"color:rgb(0,88,123)\">Example</font></b>\n",
    "\n",
    "Let us consider the [GeoLife GPS Trajectories data set](https://www.microsoft.com/en-us/download/details.aspx?id=52367&from=http%3A%2F%2Fresearch.microsoft.com%2Fen-us%2Fdownloads%2Fb16d359d-d164-469e-9fd4-daa38f2b2e13%2F) from Microsoft Research (also available as Tensorlab demo).\n",
    "\n",
    "The dataset contains the tensor UserLocAct, which has as entries the counts of 164 users in 168 locations doing 5 activities. A CPD of this tensor can be interpreted as the decomposition of the join probability distribution of the random variable (User, Location, Activity) into a mixture of independence models.\n",
    "\n",
    "\n"
   ]
  },
  {
   "cell_type": "code",
   "execution_count": 14,
   "metadata": {},
   "outputs": [
    {
     "name": "stdout",
     "output_type": "stream",
     "text": [
      "\n",
      "ans =\n",
      "\n",
      "    'The relative error of the approximation is 0.4927'\n",
      "\n"
     ]
    }
   ],
   "source": [
    "% load the dataset\n",
    "load('aaai10.uclaf.data.mat'); \n",
    "\n",
    "% compute a rank-2 CPD of the data\n",
    "U = cpd(UserLocAct, 2); \n",
    "\n",
    "% compute the relative error\n",
    "['The relative error of the approximation is ' num2str(frob(UserLocAct - cpdgen(U)) / frob(UserLocAct))]"
   ]
  },
  {
   "cell_type": "markdown",
   "metadata": {
    "slideshow": {
     "slide_type": "-"
    }
   },
   "source": [
    "<b><font style=\"color:rgb(152,17,53)\">Problem:</font></b> The factors in the CPD can only be interpreted as independence models, if their entries are <b><font style=\"color:rgb(152,17,53)\">nonnegative</font></b>. Let us impose the structure \"nonnegative\" on the factors in the CPD. In Tensorlab this is done as follows: first one initializes a struct with the data."
   ]
  },
  {
   "cell_type": "code",
   "execution_count": 15,
   "metadata": {},
   "outputs": [],
   "source": [
    "% initialize the model\n",
    "model = struct; \n",
    "\n",
    "% add the data to the model \"nonnegative\"\n",
    "model.factorizations.nonnegative.data = UserLocAct; "
   ]
  },
  {
   "cell_type": "markdown",
   "metadata": {},
   "source": [
    "Then, the variables are the defined. We start with a rank $R=2$ decomposition. The factors are defined as positive variables."
   ]
  },
  {
   "cell_type": "code",
   "execution_count": 16,
   "metadata": {},
   "outputs": [],
   "source": [
    "R = 2;\n",
    "model.variables.u   = rand(164,R);  % variable u \n",
    "model.variables.l   = rand(168,R);  % variable l\n",
    "model.variables.a   = rand(5,R);    % variable a\n",
    "\n",
    "model.factors.U   = {'u', @struct_nonneg};  % declare nonnegative factor U dependend on variable u\n",
    "model.factors.L   = {'l', @struct_nonneg};  % declare nonnegative factor L dependend on variable l\n",
    "model.factors.A   = {'a', @struct_nonneg};  % declare nonnegative factor A dependend on variable a"
   ]
  },
  {
   "cell_type": "markdown",
   "metadata": {},
   "source": [
    "Now, we can compute a CPD of the model."
   ]
  },
  {
   "cell_type": "code",
   "execution_count": 17,
   "metadata": {},
   "outputs": [
    {
     "name": "stdout",
     "output_type": "stream",
     "text": [
      "\n",
      "sol = \n",
      "\n",
      "  struct with fields:\n",
      "\n",
      "    variables: [1×1 struct]\n",
      "      factors: [1×1 struct]\n",
      "         info: [1×1 struct]\n",
      "\n",
      "\n",
      "f = \n",
      "\n",
      "  struct with fields:\n",
      "\n",
      "    U: [164×2 double]\n",
      "    L: [168×2 double]\n",
      "    A: [5×2 double]\n",
      "\n",
      "\n",
      "ans =\n",
      "\n",
      "    'The relative error of the approximation is 0.4927'\n",
      "\n"
     ]
    }
   ],
   "source": [
    "% add a CPD to the model.\n",
    "model.factorizations.nonnegative.cpd  = {'U','L','A'}; \n",
    "\n",
    "% solve the model\n",
    "sol = sdf_nls(model)\n",
    "\n",
    "% extract the factors\n",
    "f = sol.factors\n",
    "U = {f.U, f.L, f.A};\n",
    "\n",
    "% compute the relative error\n",
    "['The relative error of the approximation is ' num2str(frob(UserLocAct - cpdgen(U)) / frob(UserLocAct))]"
   ]
  },
  {
   "cell_type": "markdown",
   "metadata": {
    "slideshow": {
     "slide_type": "slide"
    }
   },
   "source": [
    "Consider now the following problem: we wish to decompose UserLocAct as before, but in addition we would like to compute the coupled interactions between users and users, and locations and users. With SDF it is possible to solve coupled models."
   ]
  },
  {
   "cell_type": "code",
   "execution_count": 18,
   "metadata": {},
   "outputs": [],
   "source": [
    "%\n",
    "% as above we first define variables and factors\n",
    "%\n",
    "\n",
    "model = struct;\n",
    "\n",
    "% define variables \n",
    "R = 2; \n",
    "model.variables.u   = rand(164,R);   \n",
    "model.variables.l   = rand(168,R);   \n",
    "model.variables.a   = rand(5,R);\n",
    "model.variables.duu   = rand(1,R);  \n",
    "model.variables.dul   = rand(1,R);\n",
    "\n",
    "% define factors \n",
    "model.factors.U   = {'u', @struct_nonneg};   \n",
    "model.factors.L   = {'l', @struct_nonneg};   \n",
    "model.factors.A   = {'a', @struct_nonneg};\n",
    "model.factors.DUU   = {'duu', @struct_nonneg}; \n",
    "model.factors.DUL   = {'dul', @struct_nonneg};\n",
    "\n",
    "%\n",
    "% Instead of one factorization, we simply write three factorizations into the model. \n",
    "%\n",
    "\n",
    "% factorization 1\n",
    "model.factorizations.fac1.data = UserLocAct; \n",
    "model.factorizations.fac1.cpd  = {'U','L','A'}; \n",
    "\n",
    "% factorization 2\n",
    "model.factorizations.fac2.data = UserUser;  \n",
    "model.factorizations.fac2.cpd  = {'U','U','DUU'}; \n",
    "\n",
    "% factorization 3\n",
    "model.factorizations.fac3.data = UserLoc; \n",
    "model.factorizations.fac3.cpd  = {'U','L','DUL'};"
   ]
  },
  {
   "cell_type": "markdown",
   "metadata": {},
   "source": [
    "We can now solve the model with sdf_solve."
   ]
  },
  {
   "cell_type": "code",
   "execution_count": 19,
   "metadata": {},
   "outputs": [
    {
     "name": "stdout",
     "output_type": "stream",
     "text": [
      "\n",
      "ans =\n",
      "\n",
      "    'The relative error in the first factorization is 0.56892'\n",
      "\n",
      "\n",
      "ans =\n",
      "\n",
      "    'The relative error in the second factorization is 0.999'\n",
      "\n",
      "\n",
      "ans =\n",
      "\n",
      "    'The relative error in the third factorization is 0.55084'\n",
      "\n"
     ]
    }
   ],
   "source": [
    "% solve the model\n",
    "sol = sdf_nls(model); \n",
    "\n",
    "% extract the computed factors\n",
    "f = sol.factors; \n",
    "\n",
    "% error of the 1st factorization\n",
    "U1 = {f.U, f.L, f.A};\n",
    "['The relative error in the first factorization is ' num2str(frob(UserLocAct - cpdgen(U1)) / frob(UserLocAct))]\n",
    "\n",
    "\n",
    "% error of the 2nd factorization\n",
    "U2 = {f.U, f.U, f.DUU};\n",
    "['The relative error in the second factorization is ' num2str(frob(UserUser - cpdgen(U2)) / frob(UserUser))]\n",
    "\n",
    "% error of the 3rd factorization\n",
    "U3 = {f.U, f.L, f.DUL};\n",
    "['The relative error in the third factorization is ' num2str(frob(UserLoc - cpdgen(U3)) / frob(UserLoc))] "
   ]
  },
  {
   "cell_type": "markdown",
   "metadata": {
    "slideshow": {
     "slide_type": "slide"
    }
   },
   "source": [
    "For more examples, see the Tensorlab Demos at \n",
    "\n",
    "         https://www.tensorlab.net/demos/ \n",
    "\n",
    "(including a long version of the last example). The Tensorlab online manual is available at https://www.tensorlab.net/doc/."
   ]
  }
 ],
 "metadata": {
  "anaconda-cloud": {},
  "celltoolbar": "Slideshow",
  "kernelspec": {
   "display_name": "Matlab",
   "language": "matlab",
   "name": "matlab"
  },
  "language_info": {
   "codemirror_mode": "octave",
   "file_extension": ".m",
   "help_links": [
    {
     "text": "MetaKernel Magics",
     "url": "https://github.com/calysto/metakernel/blob/master/metakernel/magics/README.md"
    }
   ],
   "mimetype": "text/x-octave",
   "name": "matlab",
   "version": "0.15.1"
  }
 },
 "nbformat": 4,
 "nbformat_minor": 2
}
